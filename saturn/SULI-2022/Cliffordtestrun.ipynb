{
 "cells": [
  {
   "cell_type": "code",
   "execution_count": 1,
   "id": "5ee4b364-140c-418e-8c9d-a8dded8b2e9f",
   "metadata": {},
   "outputs": [],
   "source": [
    "import matplotlib.pyplot as plt\n",
    "import numpy as np\n",
    "\n",
    "import sympy\n",
    "from sympy import *\n",
    "from sympy.ntheory import binomial_coefficients_list\n",
    "\n",
    "import clifford as cf\n",
    "layout,blades = cf.Cl(3)\n",
    "from clifford import tools\n",
    "from clifford.tools import g3\n",
    "from clifford.g3c import *\n",
    "from clifford import transformations"
   ]
  },
  {
   "cell_type": "code",
   "execution_count": 2,
   "id": "687f4c93-ee7c-436d-a9a0-2416a6436092",
   "metadata": {},
   "outputs": [
    {
     "data": {
      "text/plain": [
       "{'': 1,\n",
       " 'e1': (1^e1),\n",
       " 'e2': (1^e2),\n",
       " 'e3': (1^e3),\n",
       " 'e4': (1^e4),\n",
       " 'e5': (1^e5),\n",
       " 'e12': (1^e12),\n",
       " 'e13': (1^e13),\n",
       " 'e14': (1^e14),\n",
       " 'e15': (1^e15),\n",
       " 'e23': (1^e23),\n",
       " 'e24': (1^e24),\n",
       " 'e25': (1^e25),\n",
       " 'e34': (1^e34),\n",
       " 'e35': (1^e35),\n",
       " 'e45': (1^e45),\n",
       " 'e123': (1^e123),\n",
       " 'e124': (1^e124),\n",
       " 'e125': (1^e125),\n",
       " 'e134': (1^e134),\n",
       " 'e135': (1^e135),\n",
       " 'e145': (1^e145),\n",
       " 'e234': (1^e234),\n",
       " 'e235': (1^e235),\n",
       " 'e245': (1^e245),\n",
       " 'e345': (1^e345),\n",
       " 'e1234': (1^e1234),\n",
       " 'e1235': (1^e1235),\n",
       " 'e1245': (1^e1245),\n",
       " 'e1345': (1^e1345),\n",
       " 'e2345': (1^e2345),\n",
       " 'e12345': (1^e12345)}"
      ]
     },
     "execution_count": 2,
     "metadata": {},
     "output_type": "execute_result"
    }
   ],
   "source": [
    "blades"
   ]
  },
  {
   "cell_type": "code",
   "execution_count": 3,
   "id": "cd7f0ea4-7b38-405e-a4d4-31703df961c5",
   "metadata": {},
   "outputs": [],
   "source": [
    "locals().update(blades)"
   ]
  },
  {
   "cell_type": "code",
   "execution_count": 4,
   "id": "3bcf6313-a38c-4353-838b-7e4d468b4efa",
   "metadata": {},
   "outputs": [
    {
     "data": {
      "text/plain": [
       "(1^e1)"
      ]
     },
     "execution_count": 4,
     "metadata": {},
     "output_type": "execute_result"
    }
   ],
   "source": [
    "e1"
   ]
  },
  {
   "cell_type": "code",
   "execution_count": 5,
   "id": "e175fcd0-c44e-4b8a-b13a-b2a464b23334",
   "metadata": {},
   "outputs": [],
   "source": [
    "from IPython.display import Math\n",
    "\n"
   ]
  },
  {
   "cell_type": "code",
   "execution_count": 6,
   "id": "25927590-e6a0-4ad6-bf0a-7b0907da758f",
   "metadata": {},
   "outputs": [
    {
     "name": "stdout",
     "output_type": "stream",
     "text": [
      "[1 0 0]\n",
      "[0 1 0]\n",
      "[0 0 1]\n"
     ]
    }
   ],
   "source": [
    "a1 = cf.tools.g3.euc_mv_to_np(e1)\n",
    "a2 = cf.tools.g3.euc_mv_to_np(e2)\n",
    "a3 = cf.tools.g3.euc_mv_to_np(e3)\n",
    "print (a1)\n",
    "print(a2)\n",
    "print(a3)"
   ]
  },
  {
   "cell_type": "code",
   "execution_count": 7,
   "id": "a81d4f46-e2f6-4902-b48d-0191de5bec79",
   "metadata": {},
   "outputs": [
    {
     "data": {
      "text/plain": [
       "(1.0^e3)"
      ]
     },
     "execution_count": 7,
     "metadata": {},
     "output_type": "execute_result"
    }
   ],
   "source": [
    "cf.tools.g3.euc_cross_prod(e1,e2)"
   ]
  },
  {
   "cell_type": "code",
   "execution_count": 8,
   "id": "7e889061-7825-4eea-b7e1-961ed8471a61",
   "metadata": {},
   "outputs": [],
   "source": [
    "def cross_prod(a,b):\n",
    "    return cf.tools.g3.euc_cross_prod(a,b)"
   ]
  },
  {
   "cell_type": "code",
   "execution_count": 9,
   "id": "b09ea10e-37d7-4248-9259-1211f4bc8846",
   "metadata": {},
   "outputs": [
    {
     "data": {
      "text/plain": [
       "(1.0^e3)"
      ]
     },
     "execution_count": 9,
     "metadata": {},
     "output_type": "execute_result"
    }
   ],
   "source": [
    "cross_prod(e1,e2)"
   ]
  },
  {
   "cell_type": "code",
   "execution_count": 10,
   "id": "77c38658-409b-4d4b-89b6-8d8ba28057f2",
   "metadata": {},
   "outputs": [
    {
     "data": {
      "text/plain": [
       "(1.0^e1)"
      ]
     },
     "execution_count": 10,
     "metadata": {},
     "output_type": "execute_result"
    }
   ],
   "source": [
    "cross_prod(e2,e3)"
   ]
  },
  {
   "cell_type": "code",
   "execution_count": 11,
   "id": "0592115e-9f01-4f8d-8b02-635566ec9ca4",
   "metadata": {},
   "outputs": [],
   "source": [
    "a=(2*e1+0*e2+4*e3)\n",
    "\n",
    "b=(0*e1+4*e2+5*e3)\n",
    "\n",
    "c=(4*e1+5*e2+0*e3)"
   ]
  },
  {
   "cell_type": "code",
   "execution_count": 12,
   "id": "e20fa0f4-0085-42fa-b6e5-629edbc30aa0",
   "metadata": {},
   "outputs": [
    {
     "name": "stdout",
     "output_type": "stream",
     "text": [
      "(2^e1) + (4^e3)\n"
     ]
    }
   ],
   "source": [
    "print(a)"
   ]
  },
  {
   "cell_type": "code",
   "execution_count": 13,
   "id": "615718fd-b493-404f-a7b6-f14e5656018d",
   "metadata": {},
   "outputs": [
    {
     "data": {
      "text/plain": [
       "-(1.0^e2)"
      ]
     },
     "execution_count": 13,
     "metadata": {},
     "output_type": "execute_result"
    }
   ],
   "source": [
    "cross_prod(a,e3)"
   ]
  },
  {
   "cell_type": "code",
   "execution_count": 14,
   "id": "fa293413-acd0-4147-ba11-0fa1f89f3bcb",
   "metadata": {},
   "outputs": [
    {
     "data": {
      "text/plain": [
       "-(0.78072^e1) - (0.48795^e2) + (0.39036^e3)"
      ]
     },
     "execution_count": 14,
     "metadata": {},
     "output_type": "execute_result"
    }
   ],
   "source": [
    "cross_prod(a,b)\n"
   ]
  },
  {
   "cell_type": "code",
   "execution_count": 15,
   "id": "b1263a14-d705-4452-ad18-a36eb91dd164",
   "metadata": {},
   "outputs": [],
   "source": [
    "def reciprocal_a(x):\n",
    "    return (cross_prod(b,c))/(a|cross_prod(b,c)) \n",
    "\n",
    "def reciprocal_b(y):\n",
    "    return (cross_prod(c,a))/(b|cross_prod(c,a))\n",
    "\n",
    "def reciprocal_c(z):\n",
    "    return (cross_prod(a,b))/(c|cross_prod(a,b))"
   ]
  },
  {
   "cell_type": "code",
   "execution_count": 16,
   "id": "84b79768-74ef-4a84-9ee6-2e9699ef9368",
   "metadata": {},
   "outputs": [
    {
     "data": {
      "text/plain": [
       "(0.2193^e1) - (0.17544^e2) + (0.14035^e3)"
      ]
     },
     "execution_count": 16,
     "metadata": {},
     "output_type": "execute_result"
    }
   ],
   "source": [
    "reciprocal_a(a)"
   ]
  },
  {
   "cell_type": "code",
   "execution_count": 17,
   "id": "8ffcc901-9b28-4c41-a39c-195d06859ac6",
   "metadata": {},
   "outputs": [
    {
     "data": {
      "text/plain": [
       "-(0.17544^e1) + (0.14035^e2) + (0.08772^e3)"
      ]
     },
     "execution_count": 17,
     "metadata": {},
     "output_type": "execute_result"
    }
   ],
   "source": [
    "reciprocal_b(b)"
   ]
  },
  {
   "cell_type": "code",
   "execution_count": 18,
   "id": "0c88de1d-1df2-4e85-a37f-11bc76d4cda0",
   "metadata": {},
   "outputs": [
    {
     "data": {
      "text/plain": [
       "-(0.6985^e1) + (0.5588^e2) - (0.44704^e3)"
      ]
     },
     "execution_count": 18,
     "metadata": {},
     "output_type": "execute_result"
    }
   ],
   "source": [
    "cross_prod(b,c)"
   ]
  },
  {
   "cell_type": "code",
   "execution_count": 19,
   "id": "a80968e8-3642-4410-ac07-a57b87f1f95f",
   "metadata": {},
   "outputs": [
    {
     "data": {
      "text/plain": [
       "-3.18515"
      ]
     },
     "execution_count": 19,
     "metadata": {},
     "output_type": "execute_result"
    }
   ],
   "source": [
    "a|cross_prod(b,c)"
   ]
  },
  {
   "cell_type": "code",
   "execution_count": 20,
   "id": "a44782de-e655-43b9-bd67-67cd3027ac57",
   "metadata": {},
   "outputs": [
    {
     "data": {
      "text/plain": [
       "(0.2193^e1) - (0.17544^e2) + (0.14035^e3)"
      ]
     },
     "execution_count": 20,
     "metadata": {},
     "output_type": "execute_result"
    }
   ],
   "source": [
    "cross_prod(b,c)/(a|cross_prod(b,c))"
   ]
  },
  {
   "cell_type": "code",
   "execution_count": 21,
   "id": "770fb1c9-6dd0-42e4-beb9-9788bf9e3b21",
   "metadata": {},
   "outputs": [],
   "source": [
    "direct_vectors=[a,b,c]"
   ]
  },
  {
   "cell_type": "code",
   "execution_count": 22,
   "id": "d9753be8-9930-4de7-a3a8-b58f83423336",
   "metadata": {},
   "outputs": [
    {
     "name": "stdout",
     "output_type": "stream",
     "text": [
      "[(2^e1) + (4^e3), (4^e2) + (5^e3), (4^e1) + (5^e2)]\n"
     ]
    }
   ],
   "source": [
    "print(direct_vectors)"
   ]
  },
  {
   "cell_type": "code",
   "execution_count": 23,
   "id": "35875516-8469-44e7-8f30-324b5078645a",
   "metadata": {},
   "outputs": [
    {
     "data": {
      "text/plain": [
       "list"
      ]
     },
     "execution_count": 23,
     "metadata": {},
     "output_type": "execute_result"
    }
   ],
   "source": [
    "type(direct_vectors)"
   ]
  },
  {
   "cell_type": "code",
   "execution_count": 24,
   "id": "84631cc3-6b1d-4edd-8a10-66cf422debf5",
   "metadata": {},
   "outputs": [],
   "source": [
    "lattice_vectors = {}"
   ]
  },
  {
   "cell_type": "code",
   "execution_count": 25,
   "id": "e3acef3e-eb8e-489d-8a28-d884211eb421",
   "metadata": {},
   "outputs": [
    {
     "data": {
      "text/plain": [
       "dict"
      ]
     },
     "execution_count": 25,
     "metadata": {},
     "output_type": "execute_result"
    }
   ],
   "source": [
    "type(lattice_vectors)"
   ]
  },
  {
   "cell_type": "raw",
   "id": "95db2b70-d0b3-4e3d-8d3f-ec238ba0d7d5",
   "metadata": {},
   "source": [
    "  elif i == 2:\n",
    "            return(cross_prod(direct_vectors[i-2],direct_vectors[i-1]))/(direct_vectors[i]|cross_prod(direct_vectors[i-2],direct_vectors[i-1]))"
   ]
  },
  {
   "cell_type": "code",
   "execution_count": 26,
   "id": "f456290c-03b6-4a74-ad31-0bb4713a3808",
   "metadata": {},
   "outputs": [
    {
     "name": "stdout",
     "output_type": "stream",
     "text": [
      "0\n"
     ]
    }
   ],
   "source": [
    "print(direct_vectors.index(a))"
   ]
  },
  {
   "cell_type": "code",
   "execution_count": 72,
   "id": "b99fc769-1703-42a0-92a5-9dc7855079b9",
   "metadata": {},
   "outputs": [],
   "source": [
    "def reciprocal(x):\n",
    "    for i in range(len(direct_vectors)-1):\n",
    "        if i == 0:\n",
    "            return(cross_prod(direct_vectors[i+1],direct_vectors[i+2]))/(direct_vectors[i]|cross_prod(direct_vectors[i+1],direct_vectors[i+2]))\n",
    "        elif i == 1: \n",
    "            return(cross_prod(direct_vectors[i+1],direct_vectors[i-1]))/(direct_vectors[i]|cross_prod(direct_vectors[i+1],direct_vectors[i-1]))\n",
    "    "
   ]
  },
  {
   "cell_type": "code",
   "execution_count": 28,
   "id": "84dd7483-5c83-438b-b092-762e58df43d1",
   "metadata": {},
   "outputs": [],
   "source": [
    "lattice_vectors[str(a)] = str((reciprocal_a(a)))"
   ]
  },
  {
   "cell_type": "code",
   "execution_count": 29,
   "id": "20e104a9-8957-4850-a69a-86ff12630382",
   "metadata": {},
   "outputs": [
    {
     "name": "stdout",
     "output_type": "stream",
     "text": [
      "{'(2^e1) + (4^e3)': '(0.2193^e1) - (0.17544^e2) + (0.14035^e3)'}\n"
     ]
    }
   ],
   "source": [
    "print(lattice_vectors)"
   ]
  },
  {
   "cell_type": "code",
   "execution_count": 30,
   "id": "4ec32fbb-1ef5-408c-8880-7e16fa46e3e9",
   "metadata": {},
   "outputs": [],
   "source": [
    "direct_recips = {}"
   ]
  },
  {
   "cell_type": "code",
   "execution_count": 31,
   "id": "d4babe9a-699f-4d49-a627-de7e303e7911",
   "metadata": {},
   "outputs": [],
   "source": [
    "def cryst_recip(x,y,z):\n",
    "    direct_recips[str(x)] = str(reciprocal_a(x))\n",
    "    direct_recips[str(y)] = str(reciprocal_b(y))\n",
    "    direct_recips[str(z)] = str(reciprocal_c(z))\n",
    "    return direct_recips\n",
    "   "
   ]
  },
  {
   "cell_type": "code",
   "execution_count": 32,
   "id": "9dc2d4a5-15b1-4f35-8bbb-58ae603b77e5",
   "metadata": {},
   "outputs": [
    {
     "data": {
      "text/plain": [
       "{'(2^e1) + (4^e3)': '(0.2193^e1) - (0.17544^e2) + (0.14035^e3)',\n",
       " '(4^e2) + (5^e3)': '-(0.17544^e1) + (0.14035^e2) + (0.08772^e3)',\n",
       " '(4^e1) + (5^e2)': '(0.14035^e1) + (0.08772^e2) - (0.07018^e3)'}"
      ]
     },
     "execution_count": 32,
     "metadata": {},
     "output_type": "execute_result"
    }
   ],
   "source": [
    "cryst_recip(a,b,c)"
   ]
  },
  {
   "cell_type": "code",
   "execution_count": 73,
   "id": "7ac443d8-9712-44d3-b0e6-ce2df5881df9",
   "metadata": {},
   "outputs": [
    {
     "data": {
      "text/plain": [
       "(0.2193^e1) - (0.17544^e2) + (0.14035^e3)"
      ]
     },
     "execution_count": 73,
     "metadata": {},
     "output_type": "execute_result"
    }
   ],
   "source": [
    "reciprocal(a)"
   ]
  },
  {
   "cell_type": "code",
   "execution_count": 44,
   "id": "0cd27cfe-0311-4887-9708-6b30be2301a0",
   "metadata": {},
   "outputs": [
    {
     "data": {
      "text/plain": [
       "1"
      ]
     },
     "execution_count": 44,
     "metadata": {},
     "output_type": "execute_result"
    }
   ],
   "source": [
    "direct_vectors.index(b)"
   ]
  },
  {
   "cell_type": "code",
   "execution_count": 74,
   "id": "39c950f3-f095-4259-9a1f-d70a4a1f58f0",
   "metadata": {},
   "outputs": [
    {
     "data": {
      "text/plain": [
       "(0.2193^e1) - (0.17544^e2) + (0.14035^e3)"
      ]
     },
     "execution_count": 74,
     "metadata": {},
     "output_type": "execute_result"
    }
   ],
   "source": [
    "reciprocal(b)"
   ]
  },
  {
   "cell_type": "code",
   "execution_count": 65,
   "id": "36d5286c-47ef-41af-93d9-d330e25f75df",
   "metadata": {},
   "outputs": [
    {
     "data": {
      "text/plain": [
       "(0.2193^e1) - (0.17544^e2) + (0.14035^e3)"
      ]
     },
     "execution_count": 65,
     "metadata": {},
     "output_type": "execute_result"
    }
   ],
   "source": [
    "reciprocal(c)"
   ]
  },
  {
   "cell_type": "code",
   "execution_count": 51,
   "id": "c3718118-2a8a-4ba2-aaf6-6a120f5284a9",
   "metadata": {},
   "outputs": [
    {
     "data": {
      "text/plain": [
       "range(0, 2)"
      ]
     },
     "execution_count": 51,
     "metadata": {},
     "output_type": "execute_result"
    }
   ],
   "source": [
    "range(len(direct_vectors)-1)"
   ]
  },
  {
   "cell_type": "code",
   "execution_count": null,
   "id": "08e9639b-a430-4cd9-bc27-34f102d6907f",
   "metadata": {},
   "outputs": [],
   "source": []
  }
 ],
 "metadata": {
  "kernelspec": {
   "display_name": "Python 3",
   "language": "python",
   "name": "python3"
  },
  "language_info": {
   "codemirror_mode": {
    "name": "ipython",
    "version": 3
   },
   "file_extension": ".py",
   "mimetype": "text/x-python",
   "name": "python",
   "nbconvert_exporter": "python",
   "pygments_lexer": "ipython3",
   "version": "3.8.10"
  }
 },
 "nbformat": 4,
 "nbformat_minor": 5
}
