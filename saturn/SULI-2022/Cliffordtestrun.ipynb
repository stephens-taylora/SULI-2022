{
 "cells": [
  {
   "cell_type": "code",
   "execution_count": 1,
   "id": "5ee4b364-140c-418e-8c9d-a8dded8b2e9f",
   "metadata": {},
   "outputs": [],
   "source": [
    "import matplotlib.pyplot as plt\n",
    "import numpy as np\n",
    "\n",
    "import sympy\n",
    "from sympy import *\n",
    "from sympy.ntheory import binomial_coefficients_list\n",
    "\n",
    "import clifford as cf\n",
    "layout,blades = cf.Cl(3)\n",
    "from clifford import tools\n",
    "from clifford.tools import g3\n",
    "from clifford.g3c import *"
   ]
  },
  {
   "cell_type": "code",
   "execution_count": 2,
   "id": "687f4c93-ee7c-436d-a9a0-2416a6436092",
   "metadata": {},
   "outputs": [
    {
     "data": {
      "text/plain": [
       "{'': 1,\n",
       " 'e1': (1^e1),\n",
       " 'e2': (1^e2),\n",
       " 'e3': (1^e3),\n",
       " 'e4': (1^e4),\n",
       " 'e5': (1^e5),\n",
       " 'e12': (1^e12),\n",
       " 'e13': (1^e13),\n",
       " 'e14': (1^e14),\n",
       " 'e15': (1^e15),\n",
       " 'e23': (1^e23),\n",
       " 'e24': (1^e24),\n",
       " 'e25': (1^e25),\n",
       " 'e34': (1^e34),\n",
       " 'e35': (1^e35),\n",
       " 'e45': (1^e45),\n",
       " 'e123': (1^e123),\n",
       " 'e124': (1^e124),\n",
       " 'e125': (1^e125),\n",
       " 'e134': (1^e134),\n",
       " 'e135': (1^e135),\n",
       " 'e145': (1^e145),\n",
       " 'e234': (1^e234),\n",
       " 'e235': (1^e235),\n",
       " 'e245': (1^e245),\n",
       " 'e345': (1^e345),\n",
       " 'e1234': (1^e1234),\n",
       " 'e1235': (1^e1235),\n",
       " 'e1245': (1^e1245),\n",
       " 'e1345': (1^e1345),\n",
       " 'e2345': (1^e2345),\n",
       " 'e12345': (1^e12345)}"
      ]
     },
     "execution_count": 2,
     "metadata": {},
     "output_type": "execute_result"
    }
   ],
   "source": [
    "blades"
   ]
  },
  {
   "cell_type": "code",
   "execution_count": 3,
   "id": "cd7f0ea4-7b38-405e-a4d4-31703df961c5",
   "metadata": {},
   "outputs": [],
   "source": [
    "locals().update(blades)"
   ]
  },
  {
   "cell_type": "code",
   "execution_count": 4,
   "id": "3bcf6313-a38c-4353-838b-7e4d468b4efa",
   "metadata": {},
   "outputs": [
    {
     "data": {
      "text/plain": [
       "(1^e1)"
      ]
     },
     "execution_count": 4,
     "metadata": {},
     "output_type": "execute_result"
    }
   ],
   "source": [
    "e1"
   ]
  },
  {
   "cell_type": "code",
   "execution_count": 5,
   "id": "e175fcd0-c44e-4b8a-b13a-b2a464b23334",
   "metadata": {},
   "outputs": [],
   "source": [
    "from IPython.display import Math\n",
    "\n"
   ]
  },
  {
   "cell_type": "code",
   "execution_count": 6,
   "id": "25927590-e6a0-4ad6-bf0a-7b0907da758f",
   "metadata": {},
   "outputs": [
    {
     "name": "stdout",
     "output_type": "stream",
     "text": [
      "[1 0 0]\n",
      "[0 1 0]\n",
      "[0 0 1]\n"
     ]
    }
   ],
   "source": [
    "a1 = cf.tools.g3.euc_mv_to_np(e1)\n",
    "a2 = cf.tools.g3.euc_mv_to_np(e2)\n",
    "a3 = cf.tools.g3.euc_mv_to_np(e3)\n",
    "print (a1)\n",
    "print(a2)\n",
    "print(a3)"
   ]
  },
  {
   "cell_type": "code",
   "execution_count": 7,
   "id": "a81d4f46-e2f6-4902-b48d-0191de5bec79",
   "metadata": {},
   "outputs": [
    {
     "data": {
      "text/plain": [
       "(1.0^e3)"
      ]
     },
     "execution_count": 7,
     "metadata": {},
     "output_type": "execute_result"
    }
   ],
   "source": [
    "cf.tools.g3.euc_cross_prod(e1,e2)"
   ]
  },
  {
   "cell_type": "code",
   "execution_count": 8,
   "id": "7e889061-7825-4eea-b7e1-961ed8471a61",
   "metadata": {},
   "outputs": [],
   "source": [
    "def cross_prod(a,b):\n",
    "    return cf.tools.g3.euc_cross_prod(a,b)"
   ]
  },
  {
   "cell_type": "code",
   "execution_count": 9,
   "id": "b09ea10e-37d7-4248-9259-1211f4bc8846",
   "metadata": {},
   "outputs": [
    {
     "data": {
      "text/plain": [
       "(1.0^e3)"
      ]
     },
     "execution_count": 9,
     "metadata": {},
     "output_type": "execute_result"
    }
   ],
   "source": [
    "cross_prod(e1,e2)"
   ]
  },
  {
   "cell_type": "code",
   "execution_count": 10,
   "id": "77c38658-409b-4d4b-89b6-8d8ba28057f2",
   "metadata": {},
   "outputs": [
    {
     "data": {
      "text/plain": [
       "(1.0^e1)"
      ]
     },
     "execution_count": 10,
     "metadata": {},
     "output_type": "execute_result"
    }
   ],
   "source": [
    "cross_prod(e2,e3)"
   ]
  },
  {
   "cell_type": "code",
   "execution_count": 11,
   "id": "0592115e-9f01-4f8d-8b02-635566ec9ca4",
   "metadata": {},
   "outputs": [],
   "source": [
    "a=(2*e1+0*e2+4*e3)\n",
    "b=(0*e1+4*e2+5*e3)\n",
    "c=(4*e1+5*e2+0*e3)"
   ]
  },
  {
   "cell_type": "code",
   "execution_count": 12,
   "id": "e20fa0f4-0085-42fa-b6e5-629edbc30aa0",
   "metadata": {},
   "outputs": [
    {
     "name": "stdout",
     "output_type": "stream",
     "text": [
      "(2^e1) + (4^e3)\n"
     ]
    }
   ],
   "source": [
    "print(a)"
   ]
  },
  {
   "cell_type": "code",
   "execution_count": 13,
   "id": "615718fd-b493-404f-a7b6-f14e5656018d",
   "metadata": {},
   "outputs": [
    {
     "data": {
      "text/plain": [
       "-(1.0^e2)"
      ]
     },
     "execution_count": 13,
     "metadata": {},
     "output_type": "execute_result"
    }
   ],
   "source": [
    "cross_prod(a,e3)"
   ]
  },
  {
   "cell_type": "code",
   "execution_count": 15,
   "id": "fa293413-acd0-4147-ba11-0fa1f89f3bcb",
   "metadata": {},
   "outputs": [
    {
     "data": {
      "text/plain": [
       "-(0.78072^e1) - (0.48795^e2) + (0.39036^e3)"
      ]
     },
     "execution_count": 15,
     "metadata": {},
     "output_type": "execute_result"
    }
   ],
   "source": [
    "cross_prod(a,b)\n",
    "b1 = cross(a2, a3) / (a1|cross(a2, a3))"
   ]
  },
  {
   "cell_type": "code",
   "execution_count": 16,
   "id": "b1263a14-d705-4452-ad18-a36eb91dd164",
   "metadata": {},
   "outputs": [],
   "source": [
    "def reciprocal(a):\n",
    "    return cross_prod(b,c)/(a|cross_prod(b,c)) "
   ]
  },
  {
   "cell_type": "code",
   "execution_count": 17,
   "id": "492ad50e-5aad-476f-a174-86e961980eef",
   "metadata": {},
   "outputs": [
    {
     "data": {
      "text/plain": [
       "(0.2193^e1) - (0.17544^e2) + (0.14035^e3)"
      ]
     },
     "execution_count": 17,
     "metadata": {},
     "output_type": "execute_result"
    }
   ],
   "source": [
    "reciprocal(a)"
   ]
  },
  {
   "cell_type": "code",
   "execution_count": 18,
   "id": "0c88de1d-1df2-4e85-a37f-11bc76d4cda0",
   "metadata": {},
   "outputs": [
    {
     "data": {
      "text/plain": [
       "-(0.6985^e1) + (0.5588^e2) - (0.44704^e3)"
      ]
     },
     "execution_count": 18,
     "metadata": {},
     "output_type": "execute_result"
    }
   ],
   "source": [
    "cross_prod(b,c)"
   ]
  },
  {
   "cell_type": "code",
   "execution_count": 19,
   "id": "a80968e8-3642-4410-ac07-a57b87f1f95f",
   "metadata": {},
   "outputs": [
    {
     "data": {
      "text/plain": [
       "-3.18515"
      ]
     },
     "execution_count": 19,
     "metadata": {},
     "output_type": "execute_result"
    }
   ],
   "source": [
    "a|cross_prod(b,c)"
   ]
  },
  {
   "cell_type": "code",
   "execution_count": 21,
   "id": "a44782de-e655-43b9-bd67-67cd3027ac57",
   "metadata": {},
   "outputs": [
    {
     "data": {
      "text/plain": [
       "(0.2193^e1) - (0.17544^e2) + (0.14035^e3)"
      ]
     },
     "execution_count": 21,
     "metadata": {},
     "output_type": "execute_result"
    }
   ],
   "source": [
    "cross_prod(b,c)/(a|cross_prod(b,c))"
   ]
  },
  {
   "cell_type": "code",
   "execution_count": 22,
   "id": "770fb1c9-6dd0-42e4-beb9-9788bf9e3b21",
   "metadata": {},
   "outputs": [],
   "source": [
    "direct_vectors=[a,b,c]"
   ]
  },
  {
   "cell_type": "code",
   "execution_count": 23,
   "id": "d9753be8-9930-4de7-a3a8-b58f83423336",
   "metadata": {},
   "outputs": [
    {
     "name": "stdout",
     "output_type": "stream",
     "text": [
      "[(2^e1) + (4^e3), (4^e2) + (5^e3), (4^e1) + (5^e2)]\n"
     ]
    }
   ],
   "source": [
    "print(direct_vectors)"
   ]
  },
  {
   "cell_type": "code",
   "execution_count": 24,
   "id": "35875516-8469-44e7-8f30-324b5078645a",
   "metadata": {},
   "outputs": [
    {
     "data": {
      "text/plain": [
       "list"
      ]
     },
     "execution_count": 24,
     "metadata": {},
     "output_type": "execute_result"
    }
   ],
   "source": [
    "type(direct_vectors)"
   ]
  },
  {
   "cell_type": "code",
   "execution_count": 40,
   "id": "84631cc3-6b1d-4edd-8a10-66cf422debf5",
   "metadata": {},
   "outputs": [],
   "source": [
    "def reciprocal():\n",
    "    for i in direct_vectors:\n",
    "        return cross_prod(i+1,i+2)/(i|cross_prod(i+1,i+2))"
   ]
  },
  {
   "cell_type": "code",
   "execution_count": 41,
   "id": "e3acef3e-eb8e-489d-8a28-d884211eb421",
   "metadata": {},
   "outputs": [
    {
     "ename": "TypeError",
     "evalue": "'list' object is not callable",
     "output_type": "error",
     "traceback": [
      "\u001b[0;31m---------------------------------------------------------------------------\u001b[0m",
      "\u001b[0;31mTypeError\u001b[0m                                 Traceback (most recent call last)",
      "\u001b[0;32m<ipython-input-41-ce9025f379bc>\u001b[0m in \u001b[0;36m<module>\u001b[0;34m\u001b[0m\n\u001b[0;32m----> 1\u001b[0;31m \u001b[0mreciprocal\u001b[0m\u001b[0;34m(\u001b[0m\u001b[0mdirect_vectors\u001b[0m\u001b[0;34m(\u001b[0m\u001b[0;36m0\u001b[0m\u001b[0;34m)\u001b[0m\u001b[0;34m)\u001b[0m\u001b[0;34m\u001b[0m\u001b[0;34m\u001b[0m\u001b[0m\n\u001b[0m",
      "\u001b[0;31mTypeError\u001b[0m: 'list' object is not callable"
     ]
    }
   ],
   "source": [
    "reciprocal(direct_vectors(0))"
   ]
  },
  {
   "cell_type": "code",
   "execution_count": null,
   "id": "6b31d04b-2521-43c6-ac9e-6a902b4d9917",
   "metadata": {},
   "outputs": [],
   "source": []
  }
 ],
 "metadata": {
  "kernelspec": {
   "display_name": "Python 3",
   "language": "python",
   "name": "python3"
  },
  "language_info": {
   "codemirror_mode": {
    "name": "ipython",
    "version": 3
   },
   "file_extension": ".py",
   "mimetype": "text/x-python",
   "name": "python",
   "nbconvert_exporter": "python",
   "pygments_lexer": "ipython3",
   "version": "3.8.10"
  }
 },
 "nbformat": 4,
 "nbformat_minor": 5
}
