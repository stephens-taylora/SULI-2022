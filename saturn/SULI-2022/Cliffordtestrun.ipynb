{
 "cells": [
  {
   "cell_type": "code",
   "execution_count": 1,
   "id": "5ee4b364-140c-418e-8c9d-a8dded8b2e9f",
   "metadata": {},
   "outputs": [],
   "source": [
    "import matplotlib.pyplot as plt\n",
    "import numpy as np\n",
    "\n",
    "import sympy\n",
    "from sympy import *\n",
    "from sympy.ntheory import binomial_coefficients_list\n",
    "\n",
    "import clifford as cf\n",
    "layout,blades = cf.Cl(3)\n",
    "from clifford import tools\n",
    "from clifford.tools import g3\n",
    "from clifford.g3c import *\n",
    "from clifford import transformations\n",
    "\n",
    "import math"
   ]
  },
  {
   "cell_type": "code",
   "execution_count": 2,
   "id": "687f4c93-ee7c-436d-a9a0-2416a6436092",
   "metadata": {},
   "outputs": [
    {
     "data": {
      "text/plain": [
       "{'': 1,\n",
       " 'e1': (1^e1),\n",
       " 'e2': (1^e2),\n",
       " 'e3': (1^e3),\n",
       " 'e4': (1^e4),\n",
       " 'e5': (1^e5),\n",
       " 'e12': (1^e12),\n",
       " 'e13': (1^e13),\n",
       " 'e14': (1^e14),\n",
       " 'e15': (1^e15),\n",
       " 'e23': (1^e23),\n",
       " 'e24': (1^e24),\n",
       " 'e25': (1^e25),\n",
       " 'e34': (1^e34),\n",
       " 'e35': (1^e35),\n",
       " 'e45': (1^e45),\n",
       " 'e123': (1^e123),\n",
       " 'e124': (1^e124),\n",
       " 'e125': (1^e125),\n",
       " 'e134': (1^e134),\n",
       " 'e135': (1^e135),\n",
       " 'e145': (1^e145),\n",
       " 'e234': (1^e234),\n",
       " 'e235': (1^e235),\n",
       " 'e245': (1^e245),\n",
       " 'e345': (1^e345),\n",
       " 'e1234': (1^e1234),\n",
       " 'e1235': (1^e1235),\n",
       " 'e1245': (1^e1245),\n",
       " 'e1345': (1^e1345),\n",
       " 'e2345': (1^e2345),\n",
       " 'e12345': (1^e12345)}"
      ]
     },
     "execution_count": 2,
     "metadata": {},
     "output_type": "execute_result"
    }
   ],
   "source": [
    "blades"
   ]
  },
  {
   "cell_type": "code",
   "execution_count": 3,
   "id": "cd7f0ea4-7b38-405e-a4d4-31703df961c5",
   "metadata": {},
   "outputs": [],
   "source": [
    "locals().update(blades)"
   ]
  },
  {
   "cell_type": "code",
   "execution_count": 4,
   "id": "3bcf6313-a38c-4353-838b-7e4d468b4efa",
   "metadata": {},
   "outputs": [
    {
     "data": {
      "text/plain": [
       "(1^e1)"
      ]
     },
     "execution_count": 4,
     "metadata": {},
     "output_type": "execute_result"
    }
   ],
   "source": [
    "e1"
   ]
  },
  {
   "cell_type": "code",
   "execution_count": 5,
   "id": "e175fcd0-c44e-4b8a-b13a-b2a464b23334",
   "metadata": {},
   "outputs": [],
   "source": [
    "from IPython.display import Math\n",
    "\n"
   ]
  },
  {
   "cell_type": "code",
   "execution_count": 6,
   "id": "25927590-e6a0-4ad6-bf0a-7b0907da758f",
   "metadata": {},
   "outputs": [
    {
     "name": "stdout",
     "output_type": "stream",
     "text": [
      "[1 0 0]\n",
      "[0 1 0]\n",
      "[0 0 1]\n"
     ]
    }
   ],
   "source": [
    "a1 = cf.tools.g3.euc_mv_to_np(e1)\n",
    "a2 = cf.tools.g3.euc_mv_to_np(e2)\n",
    "a3 = cf.tools.g3.euc_mv_to_np(e3)\n",
    "print (a1)\n",
    "print(a2)\n",
    "print(a3)"
   ]
  },
  {
   "cell_type": "code",
   "execution_count": 7,
   "id": "a81d4f46-e2f6-4902-b48d-0191de5bec79",
   "metadata": {},
   "outputs": [
    {
     "data": {
      "text/plain": [
       "(1.0^e3)"
      ]
     },
     "execution_count": 7,
     "metadata": {},
     "output_type": "execute_result"
    }
   ],
   "source": [
    "cf.tools.g3.euc_cross_prod(e1,e2)"
   ]
  },
  {
   "cell_type": "code",
   "execution_count": 8,
   "id": "7e889061-7825-4eea-b7e1-961ed8471a61",
   "metadata": {},
   "outputs": [],
   "source": [
    "def cross_prod(a,b):\n",
    "    return cf.tools.g3.euc_cross_prod(a,b)"
   ]
  },
  {
   "cell_type": "code",
   "execution_count": 9,
   "id": "b09ea10e-37d7-4248-9259-1211f4bc8846",
   "metadata": {},
   "outputs": [
    {
     "data": {
      "text/plain": [
       "(1.0^e3)"
      ]
     },
     "execution_count": 9,
     "metadata": {},
     "output_type": "execute_result"
    }
   ],
   "source": [
    "cross_prod(e1,e2)"
   ]
  },
  {
   "cell_type": "code",
   "execution_count": 10,
   "id": "77c38658-409b-4d4b-89b6-8d8ba28057f2",
   "metadata": {},
   "outputs": [
    {
     "data": {
      "text/plain": [
       "(1.0^e1)"
      ]
     },
     "execution_count": 10,
     "metadata": {},
     "output_type": "execute_result"
    }
   ],
   "source": [
    "cross_prod(e2,e3)"
   ]
  },
  {
   "cell_type": "code",
   "execution_count": 11,
   "id": "0592115e-9f01-4f8d-8b02-635566ec9ca4",
   "metadata": {},
   "outputs": [],
   "source": [
    "a=(2*e1+0*e2+4*e3)\n",
    "\n",
    "b=(0*e1+4*e2+5*e3)\n",
    "\n",
    "c=(4*e1+5*e2+0*e3)"
   ]
  },
  {
   "cell_type": "code",
   "execution_count": 12,
   "id": "e20fa0f4-0085-42fa-b6e5-629edbc30aa0",
   "metadata": {},
   "outputs": [
    {
     "name": "stdout",
     "output_type": "stream",
     "text": [
      "(2^e1) + (4^e3)\n"
     ]
    }
   ],
   "source": [
    "print(a)"
   ]
  },
  {
   "cell_type": "code",
   "execution_count": 13,
   "id": "615718fd-b493-404f-a7b6-f14e5656018d",
   "metadata": {},
   "outputs": [
    {
     "data": {
      "text/plain": [
       "-(1.0^e2)"
      ]
     },
     "execution_count": 13,
     "metadata": {},
     "output_type": "execute_result"
    }
   ],
   "source": [
    "cross_prod(a,e3)"
   ]
  },
  {
   "cell_type": "code",
   "execution_count": 14,
   "id": "fa293413-acd0-4147-ba11-0fa1f89f3bcb",
   "metadata": {},
   "outputs": [
    {
     "data": {
      "text/plain": [
       "-(0.78072^e1) - (0.48795^e2) + (0.39036^e3)"
      ]
     },
     "execution_count": 14,
     "metadata": {},
     "output_type": "execute_result"
    }
   ],
   "source": [
    "cross_prod(a,b)\n"
   ]
  },
  {
   "cell_type": "code",
   "execution_count": 15,
   "id": "b1263a14-d705-4452-ad18-a36eb91dd164",
   "metadata": {},
   "outputs": [],
   "source": [
    "def reciprocal_a(x):\n",
    "    return (cross_prod(b,c))/(a|cross_prod(b,c)) \n",
    "\n",
    "def reciprocal_b(y):\n",
    "    return (cross_prod(c,a))/(b|cross_prod(c,a))\n",
    "\n",
    "def reciprocal_c(z):\n",
    "    return (cross_prod(a,b))/(c|cross_prod(a,b))"
   ]
  },
  {
   "cell_type": "code",
   "execution_count": 16,
   "id": "84b79768-74ef-4a84-9ee6-2e9699ef9368",
   "metadata": {},
   "outputs": [
    {
     "data": {
      "text/plain": [
       "(0.2193^e1) - (0.17544^e2) + (0.14035^e3)"
      ]
     },
     "execution_count": 16,
     "metadata": {},
     "output_type": "execute_result"
    }
   ],
   "source": [
    "reciprocal_a(a)"
   ]
  },
  {
   "cell_type": "code",
   "execution_count": 17,
   "id": "8ffcc901-9b28-4c41-a39c-195d06859ac6",
   "metadata": {},
   "outputs": [
    {
     "data": {
      "text/plain": [
       "-(0.17544^e1) + (0.14035^e2) + (0.08772^e3)"
      ]
     },
     "execution_count": 17,
     "metadata": {},
     "output_type": "execute_result"
    }
   ],
   "source": [
    "reciprocal_b(b)"
   ]
  },
  {
   "cell_type": "code",
   "execution_count": 18,
   "id": "0c88de1d-1df2-4e85-a37f-11bc76d4cda0",
   "metadata": {},
   "outputs": [
    {
     "data": {
      "text/plain": [
       "-(0.6985^e1) + (0.5588^e2) - (0.44704^e3)"
      ]
     },
     "execution_count": 18,
     "metadata": {},
     "output_type": "execute_result"
    }
   ],
   "source": [
    "cross_prod(b,c)"
   ]
  },
  {
   "cell_type": "code",
   "execution_count": 19,
   "id": "a80968e8-3642-4410-ac07-a57b87f1f95f",
   "metadata": {},
   "outputs": [
    {
     "data": {
      "text/plain": [
       "-3.18515"
      ]
     },
     "execution_count": 19,
     "metadata": {},
     "output_type": "execute_result"
    }
   ],
   "source": [
    "a|cross_prod(b,c)"
   ]
  },
  {
   "cell_type": "code",
   "execution_count": 20,
   "id": "a44782de-e655-43b9-bd67-67cd3027ac57",
   "metadata": {},
   "outputs": [
    {
     "data": {
      "text/plain": [
       "(0.2193^e1) - (0.17544^e2) + (0.14035^e3)"
      ]
     },
     "execution_count": 20,
     "metadata": {},
     "output_type": "execute_result"
    }
   ],
   "source": [
    "cross_prod(b,c)/(a|cross_prod(b,c))"
   ]
  },
  {
   "cell_type": "code",
   "execution_count": null,
   "id": "770fb1c9-6dd0-42e4-beb9-9788bf9e3b21",
   "metadata": {},
   "outputs": [],
   "source": []
  },
  {
   "cell_type": "code",
   "execution_count": null,
   "id": "d9753be8-9930-4de7-a3a8-b58f83423336",
   "metadata": {},
   "outputs": [],
   "source": []
  },
  {
   "cell_type": "code",
   "execution_count": null,
   "id": "35875516-8469-44e7-8f30-324b5078645a",
   "metadata": {},
   "outputs": [],
   "source": []
  },
  {
   "cell_type": "code",
   "execution_count": 21,
   "id": "84631cc3-6b1d-4edd-8a10-66cf422debf5",
   "metadata": {},
   "outputs": [],
   "source": [
    "lattice_vectors = {}"
   ]
  },
  {
   "cell_type": "code",
   "execution_count": 22,
   "id": "e3acef3e-eb8e-489d-8a28-d884211eb421",
   "metadata": {},
   "outputs": [
    {
     "data": {
      "text/plain": [
       "dict"
      ]
     },
     "execution_count": 22,
     "metadata": {},
     "output_type": "execute_result"
    }
   ],
   "source": [
    "type(lattice_vectors)"
   ]
  },
  {
   "cell_type": "raw",
   "id": "95db2b70-d0b3-4e3d-8d3f-ec238ba0d7d5",
   "metadata": {},
   "source": [
    " def reciprocal(x):\n",
    "    for i in direct_vectors.index(x):\n",
    "        if i ==0:\n",
    "            return(cross_prod(direct_vectors[i+1],direct_vectors[i+2]))/(direct_vectors[i]|cross_prod(direct_vectors[i+1],direct_vectors[i+2]))\n",
    "        elif i == 1: \n",
    "            return(cross_prod(direct_vectors[i+1],direct_vectors[i-1]))/(direct_vectors[i]|cross_prod(direct_vectors[i+1],direct_vectors[i-1]))\n",
    "        elif i == 2:\n",
    "            return(cross_prod(direct_vectors[i-2],direct_vectors[i-1]))/(direct_vectors[i]|cross_prod(direct_vectors[i-2],direct_vectors[i-1]))"
   ]
  },
  {
   "cell_type": "code",
   "execution_count": 23,
   "id": "f456290c-03b6-4a74-ad31-0bb4713a3808",
   "metadata": {},
   "outputs": [],
   "source": [
    "direct_vectors=[a,b,c]"
   ]
  },
  {
   "cell_type": "code",
   "execution_count": 24,
   "id": "b99fc769-1703-42a0-92a5-9dc7855079b9",
   "metadata": {},
   "outputs": [],
   "source": [
    "def reciprocal(x,direct_vectors):\n",
    "    i = direct_vectors.index(x)\n",
    "    if i %3==0:\n",
    "        return (cross_prod(direct_vectors[i+1],direct_vectors[i+2]))/(direct_vectors[i]|cross_prod(direct_vectors[i+1],direct_vectors[i+2]))\n",
    "    elif i %3 ==1:\n",
    "        return (cross_prod(direct_vectors[i+1],direct_vectors[i-1]))/(direct_vectors[i]|cross_prod(direct_vectors[i+1],direct_vectors[i-1]))\n",
    "    elif i %3 ==2:\n",
    "        return (cross_prod(direct_vectors[i-2],direct_vectors[i-1]))/(direct_vectors[i]|cross_prod(direct_vectors[i-2],direct_vectors[i-1]))\n",
    "        "
   ]
  },
  {
   "cell_type": "code",
   "execution_count": 25,
   "id": "84dd7483-5c83-438b-b092-762e58df43d1",
   "metadata": {},
   "outputs": [],
   "source": [
    "lattice_vectors[str(a)] = str((reciprocal_a(a)))"
   ]
  },
  {
   "cell_type": "code",
   "execution_count": 26,
   "id": "20e104a9-8957-4850-a69a-86ff12630382",
   "metadata": {},
   "outputs": [
    {
     "name": "stdout",
     "output_type": "stream",
     "text": [
      "{'(2^e1) + (4^e3)': '(0.2193^e1) - (0.17544^e2) + (0.14035^e3)'}\n"
     ]
    }
   ],
   "source": [
    "print(lattice_vectors)"
   ]
  },
  {
   "cell_type": "code",
   "execution_count": 27,
   "id": "4ec32fbb-1ef5-408c-8880-7e16fa46e3e9",
   "metadata": {},
   "outputs": [],
   "source": [
    "direct_recips = {}\n",
    "ang1 = a.normal()|b.normal()\n",
    "ang2 = b.normal()|c.normal()\n",
    "ang3 = c.normal()|a.normal()\n",
    "\n",
    "alph1 = math.acos(ang1)\n",
    "alph2 = math.acos(ang2)\n",
    "alph3 = math.acos(ang3)"
   ]
  },
  {
   "cell_type": "code",
   "execution_count": 28,
   "id": "d4babe9a-699f-4d49-a627-de7e303e7911",
   "metadata": {},
   "outputs": [],
   "source": [
    "def cryst_recip(a,b,c):\n",
    "    direct_recips = {}\n",
    "    direct_vectors=[a,b,c]\n",
    "    ang3 = a.normal()|b.normal()\n",
    "    ang1 = b.normal()|c.normal()\n",
    "    ang2 = c.normal()|a.normal()\n",
    "\n",
    "    alph1 = math.acos(ang1)\n",
    "    alph2 = math.acos(ang2)\n",
    "    alph3 = math.acos(ang3)\n",
    "    \n",
    "    bang3 = reciprocal(a,direct_vectors).normal()|reciprocal(b,direct_vectors).normal()\n",
    "    bang1 = reciprocal(b,direct_vectors).normal()|reciprocal(c,direct_vectors).normal()\n",
    "    bang2 = reciprocal(c,direct_vectors).normal()|reciprocal(a,direct_vectors).normal()\n",
    "    \n",
    "    bet1 = math.acos(bang1)\n",
    "    bet2 = math.acos(bang2)\n",
    "    bet3 = math.acos(bang3)\n",
    "    \n",
    "    \n",
    "    \n",
    "    direct_recips[\"a1\"] = a\n",
    "    direct_recips[\"a2\"] = b\n",
    "    direct_recips[\"a3\"] = c\n",
    "    direct_recips[\"alpha1\"] = alph1\n",
    "    direct_recips[\"alpha2\"] = alph2\n",
    "    direct_recips[\"alpha3\"] = alph3\n",
    "    direct_recips[\"b1\"] = reciprocal(a,direct_vectors)\n",
    "    direct_recips[\"b2\"] = reciprocal(b,direct_vectors)\n",
    "    direct_recips[\"b3\"] = reciprocal(c,direct_vectors)\n",
    "    direct_recips[\"beta1\"] = bet1\n",
    "    direct_recips[\"beta2\"] = bet2\n",
    "    direct_recips[\"beta3\"] = bet3\n",
    "    return direct_recips\n",
    "   "
   ]
  },
  {
   "cell_type": "code",
   "execution_count": 29,
   "id": "57a11737-14d1-40c9-987a-3d0f1788b1f8",
   "metadata": {},
   "outputs": [
    {
     "data": {
      "text/plain": [
       "{'a1': (1^e1),\n",
       " 'a2': (0.5^e1) + (0.86603^e2),\n",
       " 'a3': (5^e3),\n",
       " 'alpha1': 1.5707963267948966,\n",
       " 'alpha2': 1.5707963267948966,\n",
       " 'alpha3': 1.0471975511965976,\n",
       " 'b1': (1.0^e1) - (0.57735^e2),\n",
       " 'b2': (1.1547^e2),\n",
       " 'b3': (0.2^e3),\n",
       " 'beta1': 1.5707963267948966,\n",
       " 'beta2': 1.5707963267948966,\n",
       " 'beta3': 2.0943951023931957}"
      ]
     },
     "execution_count": 29,
     "metadata": {},
     "output_type": "execute_result"
    }
   ],
   "source": [
    "cryst_recip(e1,0.5*e1+math.sqrt(3)*1/2*e2,5*e3)"
   ]
  },
  {
   "cell_type": "code",
   "execution_count": 30,
   "id": "1e4ae2c3-aa00-4388-86e9-e9599c342b40",
   "metadata": {},
   "outputs": [],
   "source": [
    "hex = cryst_recip(e1,0.5*e1+math.sqrt(3)*1/2*e2,5*e3)\n",
    "assert hex[\"a1\"] == 1*e1\n",
    "assert hex[\"a2\"] == (1/2)*e1 + math.sqrt(3)*1/2*e2\n",
    "assert hex[\"a3\"] == 5*e3\n",
    "assert hex[\"alpha1\"] == math.pi/2\n",
    "assert hex[\"alpha2\"] == math.pi/2\n",
    "assert hex[\"alpha3\"] == 2*math.pi/6\n",
    "assert hex[\"b1\"] == (cross_prod(0.5*e1+math.sqrt(3)*1/2*e2,5*e3))/(e1|cross_prod(0.5*e1+math.sqrt(3)*1/2*e2,5*e3))\n",
    "assert hex[\"b2\"] == (cross_prod(5*e3,e1))/(0.5*e1+math.sqrt(3)*1/2*e2|cross_prod(5*e3,e1))\n",
    "assert hex[\"b3\"] == (cross_prod(e1,0.5*e1+math.sqrt(3)*1/2*e2))/(5*e3|cross_prod(e1,0.5*e1+math.sqrt(3)*1/2*e2))\n",
    "assert hex[\"beta1\"] == math.pi/2\n",
    "assert hex[\"beta2\"] == math.pi/2\n",
    "assert hex[\"beta3\"] == math.acos((cross_prod(0.5*e1+math.sqrt(3)*1/2*e2,5*e3))/(e1|cross_prod(0.5*e1+math.sqrt(3)*1/2*e2,5*e3)).normal()|(cross_prod(5*e3,e1))/(0.5*e1+math.sqrt(3)*1/2*e2|cross_prod(5*e3,e1)).normal())"
   ]
  },
  {
   "cell_type": "code",
   "execution_count": 31,
   "id": "7ac443d8-9712-44d3-b0e6-ce2df5881df9",
   "metadata": {},
   "outputs": [
    {
     "name": "stdout",
     "output_type": "stream",
     "text": [
      "1.0471975511965976\n",
      "1.5707963267948966\n",
      "1.5707963267948966\n"
     ]
    }
   ],
   "source": [
    "a1=e1\n",
    "a2=0.5*e1+math.sqrt(3)*1/2*e2\n",
    "a3 =5*e3\n",
    "\n",
    "print(math.acos(a2.normal()|a1.normal()))\n",
    "print(math.acos(a2.normal()|a3.normal()))\n",
    "print(math.acos(a3.normal()|a1.normal()))"
   ]
  },
  {
   "cell_type": "code",
   "execution_count": 32,
   "id": "0cd27cfe-0311-4887-9708-6b30be2301a0",
   "metadata": {},
   "outputs": [
    {
     "data": {
      "text/plain": [
       "2"
      ]
     },
     "execution_count": 32,
     "metadata": {},
     "output_type": "execute_result"
    }
   ],
   "source": [
    "direct_vectors.index(c)"
   ]
  },
  {
   "cell_type": "code",
   "execution_count": 33,
   "id": "39c950f3-f095-4259-9a1f-d70a4a1f58f0",
   "metadata": {},
   "outputs": [
    {
     "data": {
      "text/plain": [
       "(0.14035^e1) + (0.08772^e2) - (0.07018^e3)"
      ]
     },
     "execution_count": 33,
     "metadata": {},
     "output_type": "execute_result"
    }
   ],
   "source": [
    "reciprocal(c,direct_vectors)"
   ]
  },
  {
   "cell_type": "code",
   "execution_count": 34,
   "id": "36d5286c-47ef-41af-93d9-d330e25f75df",
   "metadata": {},
   "outputs": [
    {
     "data": {
      "text/plain": [
       "-(0.17544^e1) + (0.14035^e2) + (0.08772^e3)"
      ]
     },
     "execution_count": 34,
     "metadata": {},
     "output_type": "execute_result"
    }
   ],
   "source": [
    "reciprocal(b,direct_vectors)"
   ]
  },
  {
   "cell_type": "code",
   "execution_count": 35,
   "id": "c3718118-2a8a-4ba2-aaf6-6a120f5284a9",
   "metadata": {},
   "outputs": [
    {
     "data": {
      "text/plain": [
       "(0.2193^e1) - (0.17544^e2) + (0.14035^e3)"
      ]
     },
     "execution_count": 35,
     "metadata": {},
     "output_type": "execute_result"
    }
   ],
   "source": [
    "reciprocal(a,direct_vectors)"
   ]
  },
  {
   "cell_type": "code",
   "execution_count": 36,
   "id": "08e9639b-a430-4cd9-bc27-34f102d6907f",
   "metadata": {},
   "outputs": [],
   "source": [
    "A = np.array([[1, 4, 5],[3, 5, 6]])"
   ]
  },
  {
   "cell_type": "code",
   "execution_count": 37,
   "id": "c6182344-6d2e-4e0e-82e7-62839a88fe33",
   "metadata": {},
   "outputs": [
    {
     "data": {
      "text/plain": [
       "array([[1, 4],\n",
       "       [5, 3],\n",
       "       [5, 6]])"
      ]
     },
     "execution_count": 37,
     "metadata": {},
     "output_type": "execute_result"
    }
   ],
   "source": [
    "np.reshape(A,(3,2))"
   ]
  },
  {
   "cell_type": "code",
   "execution_count": 38,
   "id": "686096b3-2d93-4261-99fd-d78fcc35952c",
   "metadata": {},
   "outputs": [
    {
     "name": "stdout",
     "output_type": "stream",
     "text": [
      "[[1 4 5]\n",
      " [3 5 6]]\n"
     ]
    }
   ],
   "source": [
    "print(A)"
   ]
  },
  {
   "cell_type": "code",
   "execution_count": 39,
   "id": "a7280387-dbed-494b-832c-0ee82b115c0c",
   "metadata": {},
   "outputs": [
    {
     "data": {
      "text/plain": [
       "20"
      ]
     },
     "execution_count": 39,
     "metadata": {},
     "output_type": "execute_result"
    }
   ],
   "source": [
    "a.mag2()"
   ]
  },
  {
   "cell_type": "code",
   "execution_count": 40,
   "id": "38dd6518-4e4b-435b-83fa-a71e503cf16a",
   "metadata": {},
   "outputs": [
    {
     "data": {
      "text/plain": [
       "6.4031242374328485"
      ]
     },
     "execution_count": 40,
     "metadata": {},
     "output_type": "execute_result"
    }
   ],
   "source": [
    "math.sqrt(b.mag2())"
   ]
  },
  {
   "cell_type": "code",
   "execution_count": 41,
   "id": "4a006c77-8882-4d1d-bc87-ae0a3079d424",
   "metadata": {},
   "outputs": [
    {
     "data": {
      "text/plain": [
       "41"
      ]
     },
     "execution_count": 41,
     "metadata": {},
     "output_type": "execute_result"
    }
   ],
   "source": [
    "c.mag2()"
   ]
  },
  {
   "cell_type": "code",
   "execution_count": 42,
   "id": "d8fe5a31-9747-4b92-8df2-d18c5ab98fe2",
   "metadata": {},
   "outputs": [
    {
     "data": {
      "text/plain": [
       "(2^e1) + (4^e3)"
      ]
     },
     "execution_count": 42,
     "metadata": {},
     "output_type": "execute_result"
    }
   ],
   "source": [
    "a"
   ]
  },
  {
   "cell_type": "code",
   "execution_count": 43,
   "id": "4dc46df1-4810-4d8c-af66-54a1fbc0b160",
   "metadata": {},
   "outputs": [
    {
     "data": {
      "text/plain": [
       "(4^e2) + (5^e3)"
      ]
     },
     "execution_count": 43,
     "metadata": {},
     "output_type": "execute_result"
    }
   ],
   "source": [
    "b"
   ]
  },
  {
   "cell_type": "code",
   "execution_count": 44,
   "id": "b30a584d-76fe-4dd9-806f-bf73225a60eb",
   "metadata": {},
   "outputs": [
    {
     "data": {
      "text/plain": [
       "(4^e1) + (5^e2)"
      ]
     },
     "execution_count": 44,
     "metadata": {},
     "output_type": "execute_result"
    }
   ],
   "source": [
    "c"
   ]
  },
  {
   "cell_type": "code",
   "execution_count": 45,
   "id": "26caead9-8743-4c77-87f4-d8e17be3f4b6",
   "metadata": {},
   "outputs": [],
   "source": [
    "def b_matrix(a,b,c):\n",
    "    direct_vectors = [a,b,c]\n",
    "    ang3 = a.normal()|b.normal()\n",
    "    ang1 = b.normal()|c.normal()\n",
    "    ang2 = c.normal()|a.normal()\n",
    "\n",
    "    alph1 = math.acos(ang1)\n",
    "    alph2 = math.acos(ang2)\n",
    "    alph3 = math.acos(ang3)\n",
    "    \n",
    "    bang3 = reciprocal(a,direct_vectors).normal()|reciprocal(b,direct_vectors).normal()\n",
    "    bang1 = reciprocal(b,direct_vectors).normal()|reciprocal(c,direct_vectors).normal()\n",
    "    bang2 = reciprocal(c,direct_vectors).normal()|reciprocal(a,direct_vectors).normal()\n",
    "    \n",
    "    bet1 = math.acos(bang1)\n",
    "    bet2 = math.acos(bang2)\n",
    "    bet3 = math.acos(bang3)\n",
    "    \n",
    "    B = np.array([[math.sqrt(reciprocal(a,direct_vectors).mag2()), math.sqrt(reciprocal(b,direct_vectors).mag2())*bang3, math.sqrt(reciprocal(c,direct_vectors).mag2())*bang2],[0, math.sqrt(reciprocal(b,direct_vectors).mag2())*math.sin(bet3), -math.sqrt(reciprocal(c,direct_vectors).mag2())*math.sin(bet2)*math.cos(alph1)],[0,0,1/math.sqrt(c.mag2())]])\n",
    "    \n",
    "    print(B)\n",
    "    return B"
   ]
  },
  {
   "cell_type": "code",
   "execution_count": 46,
   "id": "24ec4ef1-e543-49e7-be23-0e1f4dcd7d3b",
   "metadata": {},
   "outputs": [
    {
     "name": "stdout",
     "output_type": "stream",
     "text": [
      "[[0.31395666961707513 -0.16176 0.01765]\n",
      " [0 0.1789028929922578 -0.08726970389866233]\n",
      " [0 0 0.15617376188860607]]\n"
     ]
    },
    {
     "data": {
      "text/plain": [
       "array([[0.31395666961707513, -0.16176, 0.01765],\n",
       "       [0, 0.1789028929922578, -0.08726970389866233],\n",
       "       [0, 0, 0.15617376188860607]], dtype=object)"
      ]
     },
     "execution_count": 46,
     "metadata": {},
     "output_type": "execute_result"
    }
   ],
   "source": [
    "b_matrix(a,b,c)"
   ]
  },
  {
   "cell_type": "code",
   "execution_count": 47,
   "id": "b75ef00d-bd56-49b0-81ea-3ca6ad2405d1",
   "metadata": {},
   "outputs": [
    {
     "name": "stdout",
     "output_type": "stream",
     "text": [
      "(2^e1) + (4^e3)\n"
     ]
    }
   ],
   "source": [
    "print(a)"
   ]
  },
  {
   "cell_type": "code",
   "execution_count": 48,
   "id": "62ba5144-fe3f-4926-92a4-27242010db4e",
   "metadata": {},
   "outputs": [
    {
     "name": "stdout",
     "output_type": "stream",
     "text": [
      "(4^e2) + (5^e3)\n"
     ]
    }
   ],
   "source": [
    "print(b)"
   ]
  },
  {
   "cell_type": "code",
   "execution_count": 49,
   "id": "d5e69295-0e98-482b-a59d-cf8bb819d007",
   "metadata": {},
   "outputs": [
    {
     "name": "stdout",
     "output_type": "stream",
     "text": [
      "(4^e1) + (5^e2)\n"
     ]
    }
   ],
   "source": [
    "print(c)"
   ]
  },
  {
   "cell_type": "code",
   "execution_count": 50,
   "id": "e35254f3-74af-47fb-b291-ad025d6817ef",
   "metadata": {},
   "outputs": [
    {
     "name": "stdout",
     "output_type": "stream",
     "text": [
      "[[1.0 0 0]\n",
      " [0 1.0 -6.123233995736766e-17]\n",
      " [0 0 1.0]]\n"
     ]
    },
    {
     "data": {
      "text/plain": [
       "array([[1.0, 0, 0],\n",
       "       [0, 1.0, -6.123233995736766e-17],\n",
       "       [0, 0, 1.0]], dtype=object)"
      ]
     },
     "execution_count": 50,
     "metadata": {},
     "output_type": "execute_result"
    }
   ],
   "source": [
    "b_matrix(e1, e2, e3)"
   ]
  },
  {
   "cell_type": "code",
   "execution_count": 51,
   "id": "d94a43d9-58bf-45b4-96a7-d4e88e435324",
   "metadata": {},
   "outputs": [],
   "source": [
    "def phi_matrix(p):\n",
    "    Phi = np.array([[math.cos(p), math.sin(p), 0], [-math.sin(p), math.cos(p), 0],[0,0,1]])\n",
    "    print(Phi)\n",
    "    return Phi\n",
    "\n",
    "def chi_matrix(x):\n",
    "    Chi = np.array([[math.cos(x),0,math.sin(x)], [0,1,0], [-math.sin(x),0,math.cos(x)]])\n",
    "    print(Chi)\n",
    "    return Chi\n",
    "    \n",
    "def omeg_matrix(w):\n",
    "    Omeg = np.array([[math.cos(w), math.sin(w), 0], [-math.sin(w), math.cos(w), 0], [0,0,1]])\n",
    "    print(Omeg)\n",
    "    return Omeg\n",
    "\n",
    "def theta_matrix(a):\n",
    "    Theta = np.array([[math.cos(a), math.sin(a),0], [-math.sin(a), math.cos(a), 0], [0,0,1]])\n",
    "    print(Theta)\n",
    "    return Theta\n",
    "\n",
    "def N_matrix(w,a):\n",
    "    v = w+a\n",
    "    N = np.array([[math.cos(v),mat.sin(v),0],[-math.sin(v),math.cos(v),0],[0,0,1]])\n",
    "    print(N)\n",
    "    return N\n",
    "    \n",
    "def M_matrix(w,a):\n",
    "    u = w-a\n",
    "    M = np.array([[math.cos(u),math.sin(u),0],[-math.sin(u),math.cos(u),0],[0,0,1]])\n",
    "    print(M)\n",
    "    return M\n",
    "    "
   ]
  },
  {
   "cell_type": "code",
   "execution_count": 52,
   "id": "fd28ca30-a152-468c-8fc4-fe0463459d74",
   "metadata": {},
   "outputs": [
    {
     "name": "stdout",
     "output_type": "stream",
     "text": [
      "[[ 0.70710678  0.70710678  0.        ]\n",
      " [-0.70710678  0.70710678  0.        ]\n",
      " [ 0.          0.          1.        ]]\n"
     ]
    },
    {
     "data": {
      "text/plain": [
       "array([[ 0.70710678,  0.70710678,  0.        ],\n",
       "       [-0.70710678,  0.70710678,  0.        ],\n",
       "       [ 0.        ,  0.        ,  1.        ]])"
      ]
     },
     "execution_count": 52,
     "metadata": {},
     "output_type": "execute_result"
    }
   ],
   "source": [
    "phi_matrix(math.pi/4)"
   ]
  },
  {
   "cell_type": "code",
   "execution_count": 53,
   "id": "c8cac353-7d8a-4fcf-afa4-35bb7d1c2846",
   "metadata": {},
   "outputs": [
    {
     "name": "stdout",
     "output_type": "stream",
     "text": [
      "[[ 0.42417901 -0.90557836  0.        ]\n",
      " [ 0.90557836  0.42417901  0.        ]\n",
      " [ 0.          0.          1.        ]]\n"
     ]
    },
    {
     "data": {
      "text/plain": [
       "array([[ 0.42417901, -0.90557836,  0.        ],\n",
       "       [ 0.90557836,  0.42417901,  0.        ],\n",
       "       [ 0.        ,  0.        ,  1.        ]])"
      ]
     },
     "execution_count": 53,
     "metadata": {},
     "output_type": "execute_result"
    }
   ],
   "source": [
    "phi_matrix(24)"
   ]
  },
  {
   "cell_type": "code",
   "execution_count": 54,
   "id": "af4566a1-7376-4e89-9b29-b247716c17a3",
   "metadata": {},
   "outputs": [
    {
     "name": "stdout",
     "output_type": "stream",
     "text": [
      "[[-0.75968791  0.          0.65028784]\n",
      " [ 0.          1.          0.        ]\n",
      " [-0.65028784  0.         -0.75968791]]\n"
     ]
    },
    {
     "data": {
      "text/plain": [
       "array([[-0.75968791,  0.        ,  0.65028784],\n",
       "       [ 0.        ,  1.        ,  0.        ],\n",
       "       [-0.65028784,  0.        , -0.75968791]])"
      ]
     },
     "execution_count": 54,
     "metadata": {},
     "output_type": "execute_result"
    }
   ],
   "source": [
    "chi_matrix(15)"
   ]
  },
  {
   "cell_type": "code",
   "execution_count": 55,
   "id": "8ae03eaf-ea90-4a32-ab62-7f6268a7c3ea",
   "metadata": {},
   "outputs": [
    {
     "name": "stdout",
     "output_type": "stream",
     "text": [
      "[[ 0.28366219 -0.95892427  0.        ]\n",
      " [ 0.95892427  0.28366219  0.        ]\n",
      " [ 0.          0.          1.        ]]\n"
     ]
    },
    {
     "data": {
      "text/plain": [
       "array([[ 0.28366219, -0.95892427,  0.        ],\n",
       "       [ 0.95892427,  0.28366219,  0.        ],\n",
       "       [ 0.        ,  0.        ,  1.        ]])"
      ]
     },
     "execution_count": 55,
     "metadata": {},
     "output_type": "execute_result"
    }
   ],
   "source": [
    "omeg_matrix(5)"
   ]
  },
  {
   "cell_type": "code",
   "execution_count": 56,
   "id": "cddbc1f6-15c3-4306-b3b0-e48be0e569b4",
   "metadata": {},
   "outputs": [
    {
     "name": "stdout",
     "output_type": "stream",
     "text": [
      "[[ 6.123234e-17  1.000000e+00  0.000000e+00]\n",
      " [-1.000000e+00  6.123234e-17  0.000000e+00]\n",
      " [ 0.000000e+00  0.000000e+00  1.000000e+00]]\n"
     ]
    },
    {
     "data": {
      "text/plain": [
       "array([[ 6.123234e-17,  1.000000e+00,  0.000000e+00],\n",
       "       [-1.000000e+00,  6.123234e-17,  0.000000e+00],\n",
       "       [ 0.000000e+00,  0.000000e+00,  1.000000e+00]])"
      ]
     },
     "execution_count": 56,
     "metadata": {},
     "output_type": "execute_result"
    }
   ],
   "source": [
    "phi_matrix((math.pi/2))"
   ]
  },
  {
   "cell_type": "code",
   "execution_count": 57,
   "id": "7a5fd79d-c53a-4dd5-ad18-4e2d361c0677",
   "metadata": {},
   "outputs": [
    {
     "name": "stdout",
     "output_type": "stream",
     "text": [
      "[[ 6.123234e-17  0.000000e+00  1.000000e+00]\n",
      " [ 0.000000e+00  1.000000e+00  0.000000e+00]\n",
      " [-1.000000e+00  0.000000e+00  6.123234e-17]]\n"
     ]
    },
    {
     "data": {
      "text/plain": [
       "array([[ 6.123234e-17,  0.000000e+00,  1.000000e+00],\n",
       "       [ 0.000000e+00,  1.000000e+00,  0.000000e+00],\n",
       "       [-1.000000e+00,  0.000000e+00,  6.123234e-17]])"
      ]
     },
     "execution_count": 57,
     "metadata": {},
     "output_type": "execute_result"
    }
   ],
   "source": [
    "chi_matrix((math.pi/2))"
   ]
  },
  {
   "cell_type": "code",
   "execution_count": 58,
   "id": "e90652c8-2f63-4e42-bfb7-ce1615d87245",
   "metadata": {},
   "outputs": [
    {
     "name": "stdout",
     "output_type": "stream",
     "text": [
      "[[ 6.123234e-17  1.000000e+00  0.000000e+00]\n",
      " [-1.000000e+00  6.123234e-17  0.000000e+00]\n",
      " [ 0.000000e+00  0.000000e+00  1.000000e+00]]\n"
     ]
    },
    {
     "data": {
      "text/plain": [
       "array([[ 6.123234e-17,  1.000000e+00,  0.000000e+00],\n",
       "       [-1.000000e+00,  6.123234e-17,  0.000000e+00],\n",
       "       [ 0.000000e+00,  0.000000e+00,  1.000000e+00]])"
      ]
     },
     "execution_count": 58,
     "metadata": {},
     "output_type": "execute_result"
    }
   ],
   "source": [
    "omeg_matrix((math.pi/2))"
   ]
  },
  {
   "cell_type": "code",
   "execution_count": 59,
   "id": "cbc98484-8a81-4aea-aaf7-62eea1b0513b",
   "metadata": {},
   "outputs": [],
   "source": [
    "h = np.array([[1], [0], [0]])"
   ]
  },
  {
   "cell_type": "code",
   "execution_count": 60,
   "id": "061f837f-29ab-4b0d-92ca-d8410d3516cb",
   "metadata": {},
   "outputs": [
    {
     "data": {
      "text/plain": [
       "array([[1],\n",
       "       [0],\n",
       "       [0]])"
      ]
     },
     "execution_count": 60,
     "metadata": {},
     "output_type": "execute_result"
    }
   ],
   "source": [
    "h"
   ]
  },
  {
   "cell_type": "code",
   "execution_count": 61,
   "id": "b352d978-d581-452b-b0a0-66fb0067e8ac",
   "metadata": {},
   "outputs": [
    {
     "name": "stdout",
     "output_type": "stream",
     "text": [
      "[[1.0 0 0]\n",
      " [0 1.0 -6.123233995736766e-17]\n",
      " [0 0 1.0]]\n"
     ]
    },
    {
     "data": {
      "text/plain": [
       "array([[1.0],\n",
       "       [0.0],\n",
       "       [0.0]], dtype=object)"
      ]
     },
     "execution_count": 61,
     "metadata": {},
     "output_type": "execute_result"
    }
   ],
   "source": [
    "np.matmul(b_matrix(e1,e2,e3),h)"
   ]
  },
  {
   "cell_type": "code",
   "execution_count": 62,
   "id": "1263d98a-7bf9-482c-91a5-f7b65af17e5d",
   "metadata": {},
   "outputs": [
    {
     "name": "stdout",
     "output_type": "stream",
     "text": [
      "[[1.0 0 0]\n",
      " [0 1.0 -6.123233995736766e-17]\n",
      " [0 0 1.0]]\n"
     ]
    },
    {
     "data": {
      "text/plain": [
       "numpy.ndarray"
      ]
     },
     "execution_count": 62,
     "metadata": {},
     "output_type": "execute_result"
    }
   ],
   "source": [
    "type(b_matrix(e1,e2,e3))"
   ]
  },
  {
   "cell_type": "code",
   "execution_count": 75,
   "id": "a2e2bf39-7d4f-40f3-9c7a-61ad9bfb3e4d",
   "metadata": {},
   "outputs": [],
   "source": [
    "def h_theta():\n",
    "    U = np.array([[1,0,0],[0,1,0],[0,0,1]])\n",
    "    part1 = np.matmul(omeg_matrix(0),chi_matrix(0))\n",
    "    part3 = np.matmul(b_matrix(e1,e2,e3),h)\n",
    "    s = np.arange(0,math.pi,0.1)\n",
    "    z = np.zeros_like(s)\n",
    "    for x in s:\n",
    "        part2 = np.matmul(phi_matrix(x),U)\n",
    "        enum_part2 = enumerate(part2)\n",
    "        \n",
    "        front = np.matmul(part1,part2)\n",
    "        total = np.matmul(front,part3)\n",
    "        \n",
    "    return \n"
   ]
  },
  {
   "cell_type": "code",
   "execution_count": 76,
   "id": "0ea8afd1-0008-4b94-9ea3-9de9229f5f8b",
   "metadata": {},
   "outputs": [
    {
     "name": "stdout",
     "output_type": "stream",
     "text": [
      "[[ 1.  0.  0.]\n",
      " [-0.  1.  0.]\n",
      " [ 0.  0.  1.]]\n",
      "[[ 1.  0.  0.]\n",
      " [ 0.  1.  0.]\n",
      " [-0.  0.  1.]]\n",
      "[[1.0 0 0]\n",
      " [0 1.0 -6.123233995736766e-17]\n",
      " [0 0 1.0]]\n",
      "[[ 1.  0.  0.]\n",
      " [-0.  1.  0.]\n",
      " [ 0.  0.  1.]]\n",
      "[[ 0.99500417  0.09983342  0.        ]\n",
      " [-0.09983342  0.99500417  0.        ]\n",
      " [ 0.          0.          1.        ]]\n",
      "[[ 0.98006658  0.19866933  0.        ]\n",
      " [-0.19866933  0.98006658  0.        ]\n",
      " [ 0.          0.          1.        ]]\n",
      "[[ 0.95533649  0.29552021  0.        ]\n",
      " [-0.29552021  0.95533649  0.        ]\n",
      " [ 0.          0.          1.        ]]\n",
      "[[ 0.92106099  0.38941834  0.        ]\n",
      " [-0.38941834  0.92106099  0.        ]\n",
      " [ 0.          0.          1.        ]]\n",
      "[[ 0.87758256  0.47942554  0.        ]\n",
      " [-0.47942554  0.87758256  0.        ]\n",
      " [ 0.          0.          1.        ]]\n",
      "[[ 0.82533561  0.56464247  0.        ]\n",
      " [-0.56464247  0.82533561  0.        ]\n",
      " [ 0.          0.          1.        ]]\n",
      "[[ 0.76484219  0.64421769  0.        ]\n",
      " [-0.64421769  0.76484219  0.        ]\n",
      " [ 0.          0.          1.        ]]\n",
      "[[ 0.69670671  0.71735609  0.        ]\n",
      " [-0.71735609  0.69670671  0.        ]\n",
      " [ 0.          0.          1.        ]]\n",
      "[[ 0.62160997  0.78332691  0.        ]\n",
      " [-0.78332691  0.62160997  0.        ]\n",
      " [ 0.          0.          1.        ]]\n",
      "[[ 0.54030231  0.84147098  0.        ]\n",
      " [-0.84147098  0.54030231  0.        ]\n",
      " [ 0.          0.          1.        ]]\n",
      "[[ 0.45359612  0.89120736  0.        ]\n",
      " [-0.89120736  0.45359612  0.        ]\n",
      " [ 0.          0.          1.        ]]\n",
      "[[ 0.36235775  0.93203909  0.        ]\n",
      " [-0.93203909  0.36235775  0.        ]\n",
      " [ 0.          0.          1.        ]]\n",
      "[[ 0.26749883  0.96355819  0.        ]\n",
      " [-0.96355819  0.26749883  0.        ]\n",
      " [ 0.          0.          1.        ]]\n",
      "[[ 0.16996714  0.98544973  0.        ]\n",
      " [-0.98544973  0.16996714  0.        ]\n",
      " [ 0.          0.          1.        ]]\n",
      "[[ 0.0707372   0.99749499  0.        ]\n",
      " [-0.99749499  0.0707372   0.        ]\n",
      " [ 0.          0.          1.        ]]\n",
      "[[-0.02919952  0.9995736   0.        ]\n",
      " [-0.9995736  -0.02919952  0.        ]\n",
      " [ 0.          0.          1.        ]]\n",
      "[[-0.12884449  0.99166481  0.        ]\n",
      " [-0.99166481 -0.12884449  0.        ]\n",
      " [ 0.          0.          1.        ]]\n",
      "[[-0.22720209  0.97384763  0.        ]\n",
      " [-0.97384763 -0.22720209  0.        ]\n",
      " [ 0.          0.          1.        ]]\n",
      "[[-0.32328957  0.94630009  0.        ]\n",
      " [-0.94630009 -0.32328957  0.        ]\n",
      " [ 0.          0.          1.        ]]\n",
      "[[-0.41614684  0.90929743  0.        ]\n",
      " [-0.90929743 -0.41614684  0.        ]\n",
      " [ 0.          0.          1.        ]]\n",
      "[[-0.5048461   0.86320937  0.        ]\n",
      " [-0.86320937 -0.5048461   0.        ]\n",
      " [ 0.          0.          1.        ]]\n",
      "[[-0.58850112  0.8084964   0.        ]\n",
      " [-0.8084964  -0.58850112  0.        ]\n",
      " [ 0.          0.          1.        ]]\n",
      "[[-0.66627602  0.74570521  0.        ]\n",
      " [-0.74570521 -0.66627602  0.        ]\n",
      " [ 0.          0.          1.        ]]\n",
      "[[-0.73739372  0.67546318  0.        ]\n",
      " [-0.67546318 -0.73739372  0.        ]\n",
      " [ 0.          0.          1.        ]]\n",
      "[[-0.80114362  0.59847214  0.        ]\n",
      " [-0.59847214 -0.80114362  0.        ]\n",
      " [ 0.          0.          1.        ]]\n",
      "[[-0.85688875  0.51550137  0.        ]\n",
      " [-0.51550137 -0.85688875  0.        ]\n",
      " [ 0.          0.          1.        ]]\n",
      "[[-0.90407214  0.42737988  0.        ]\n",
      " [-0.42737988 -0.90407214  0.        ]\n",
      " [ 0.          0.          1.        ]]\n",
      "[[-0.94222234  0.33498815  0.        ]\n",
      " [-0.33498815 -0.94222234  0.        ]\n",
      " [ 0.          0.          1.        ]]\n",
      "[[-0.97095817  0.23924933  0.        ]\n",
      " [-0.23924933 -0.97095817  0.        ]\n",
      " [ 0.          0.          1.        ]]\n",
      "[[-0.9899925   0.14112001  0.        ]\n",
      " [-0.14112001 -0.9899925   0.        ]\n",
      " [ 0.          0.          1.        ]]\n",
      "[[-0.99913515  0.04158066  0.        ]\n",
      " [-0.04158066 -0.99913515  0.        ]\n",
      " [ 0.          0.          1.        ]]\n"
     ]
    },
    {
     "data": {
      "text/plain": [
       "<enumerate at 0x7f893a8964c0>"
      ]
     },
     "execution_count": 76,
     "metadata": {},
     "output_type": "execute_result"
    }
   ],
   "source": [
    "h_theta()"
   ]
  },
  {
   "cell_type": "code",
   "execution_count": null,
   "id": "5f8c6256-9587-4ed3-b0f2-b16d2876fb89",
   "metadata": {},
   "outputs": [],
   "source": [
    "range(5)"
   ]
  },
  {
   "cell_type": "code",
   "execution_count": null,
   "id": "8993fbfe-35d6-42ef-9983-d44c971596bd",
   "metadata": {},
   "outputs": [],
   "source": [
    "for x in np.arange(0.1,5,0.1):\n",
    "    print(x)"
   ]
  },
  {
   "cell_type": "code",
   "execution_count": null,
   "id": "11fb55ff-c204-4818-aed6-4451b389e58c",
   "metadata": {},
   "outputs": [],
   "source": []
  }
 ],
 "metadata": {
  "kernelspec": {
   "display_name": "Python 3",
   "language": "python",
   "name": "python3"
  },
  "language_info": {
   "codemirror_mode": {
    "name": "ipython",
    "version": 3
   },
   "file_extension": ".py",
   "mimetype": "text/x-python",
   "name": "python",
   "nbconvert_exporter": "python",
   "pygments_lexer": "ipython3",
   "version": "3.8.10"
  }
 },
 "nbformat": 4,
 "nbformat_minor": 5
}
